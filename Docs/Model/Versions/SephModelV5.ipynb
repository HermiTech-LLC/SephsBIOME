{
  "cells": [
    {
      "cell_type": "markdown",
      "metadata": {
        "id": "view-in-github",
        "colab_type": "text"
      },
      "source": [
        "<a href=\"https://colab.research.google.com/github/LoQiseaking69/SephsBIOME/blob/master/Docs/Model/Versions/SephModelV5.ipynb\" target=\"_parent\"><img src=\"https://colab.research.google.com/assets/colab-badge.svg\" alt=\"Open In Colab\"/></a>"
      ]
    },
    {
      "cell_type": "markdown",
      "id": "5cd639c6",
      "metadata": {
        "id": "5cd639c6"
      },
      "source": [
        "\n",
        "# Seph's ModelV5 Development\n",
        "\n",
        "This notebook demonstrates the development of a custom neural network using TensorFlow and Keras, focusing on good coding practices and clear documentation.\n",
        "\n",
        "\n",
        "All necessary libraries are imported here for better organization.\n"
      ]
    },
    {
      "cell_type": "code",
      "execution_count": 4,
      "id": "nmovAo9dl9j9",
      "metadata": {
        "id": "nmovAo9dl9j9"
      },
      "outputs": [],
      "source": [
        "%%capture\n",
        "!pip install gym numpy pandas scikit-learn joblib matplotlib tensorflow keras"
      ]
    },
    {
      "cell_type": "markdown",
      "source": [
        "### Library Imports"
      ],
      "metadata": {
        "id": "goXQKV80fMBS"
      },
      "id": "goXQKV80fMBS"
    },
    {
      "cell_type": "code",
      "execution_count": 5,
      "id": "3979fb8e",
      "metadata": {
        "id": "3979fb8e"
      },
      "outputs": [],
      "source": [
        "import gym\n",
        "import numpy as np\n",
        "from tensorflow.keras.utils import to_categorical\n",
        "import pandas as pd\n",
        "from sklearn.preprocessing import StandardScaler, LabelEncoder\n",
        "from sklearn.model_selection import train_test_split\n",
        "from joblib import dump\n",
        "import tensorflow as tf\n",
        "from tensorflow import keras\n",
        "from tensorflow.keras import layers, optimizers\n",
        "from tensorflow.keras.models import load_model\n",
        "from tensorflow.keras.utils import plot_model\n",
        "import matplotlib.pyplot as plt"
      ]
    },
    {
      "cell_type": "markdown",
      "id": "68055aff",
      "metadata": {
        "id": "68055aff"
      },
      "source": [
        "## Custom Layer Definitions\n",
        "\n",
        "Here we define custom layers with appropriate documentation and naming conventions.\n",
        "\n",
        "### RBMLayer\n",
        "\n",
        "This custom TensorFlow layer implements a Restricted Boltzmann Machine (RBM). An RBM is a type of neural network used for unsupervised learning, typically employed for dimensionality reduction, feature learning, and classification. The layer initializes trainable weights and biases and performs a forward pass using a sigmoid activation function. The inputs are transformed by the weights and biases, with the sigmoid activation determining the probability of the hidden units being activated. This allows the RBM to learn complex, nonlinear representations of the input data.\n"
      ]
    },
    {
      "cell_type": "code",
      "execution_count": 7,
      "id": "ecebd4a8",
      "metadata": {
        "collapsed": true,
        "id": "ecebd4a8",
        "jupyter": {
          "outputs_hidden": true
        },
        "outputId": "8a8cac10-0745-4243-f451-8ac9db81e909",
        "colab": {
          "base_uri": "https://localhost:8080/"
        }
      },
      "outputs": [
        {
          "output_type": "stream",
          "name": "stdout",
          "text": [
            "Input data shape: (1, 10)\n",
            "Output data shape: (1, 5)\n"
          ]
        }
      ],
      "source": [
        "import tensorflow as tf\n",
        "from tensorflow.keras import layers\n",
        "\n",
        "# RBM Layer definition\n",
        "class RBMLayer(layers.Layer):\n",
        "    def __init__(self, num_hidden_units):\n",
        "        super(RBMLayer, self).__init__()\n",
        "        self.num_hidden_units = num_hidden_units\n",
        "\n",
        "    def build(self, input_shape):\n",
        "        # Changed attribute name from 'weights' to 'rbm_weights'\n",
        "        self.rbm_weights = self.add_weight(shape=(input_shape[-1], self.num_hidden_units),\n",
        "                                           initializer='random_normal',\n",
        "                                           trainable=True)\n",
        "        self.biases = self.add_weight(shape=(self.num_hidden_units,),\n",
        "                                      initializer='zeros',\n",
        "                                      trainable=True)\n",
        "\n",
        "    def call(self, inputs):\n",
        "        # Use 'rbm_weights' instead of 'weights'\n",
        "        activation = tf.matmul(inputs, self.rbm_weights) + self.biases\n",
        "        return tf.nn.sigmoid(activation)\n",
        "\n",
        "# Example usage of RBMLayer\n",
        "input_data = tf.random.normal([1, 10])  # Example input\n",
        "rbm_layer = RBMLayer(num_hidden_units=5)\n",
        "output = rbm_layer(input_data)\n",
        "\n",
        "print(\"Input data shape:\", input_data.shape)\n",
        "print(\"Output data shape:\", output.shape)"
      ]
    },
    {
      "cell_type": "markdown",
      "id": "e1de42b9-0298-43aa-807f-3f1349a3401c",
      "metadata": {
        "id": "e1de42b9-0298-43aa-807f-3f1349a3401c"
      },
      "source": [
        "### Replay Buffer"
      ]
    },
    {
      "cell_type": "code",
      "execution_count": 16,
      "id": "7e2142b1-2c44-4d76-ab8d-7d7bee01ba6f",
      "metadata": {
        "id": "7e2142b1-2c44-4d76-ab8d-7d7bee01ba6f"
      },
      "outputs": [],
      "source": [
        "class ReplayBuffer:\n",
        "    def __init__(self, max_size, input_shape, n_actions):\n",
        "        self.mem_size = max_size\n",
        "        self.mem_cntr = 0\n",
        "        self.state_memory = np.zeros((self.mem_size,) + input_shape, dtype=np.float32)\n",
        "        self.new_state_memory = np.zeros((self.mem_size,) + input_shape, dtype=np.float32)\n",
        "        self.action_memory = np.zeros((self.mem_size, n_actions), dtype=np.int8)\n",
        "        self.reward_memory = np.zeros(self.mem_size, dtype=np.float32)\n",
        "        self.terminal_memory = np.zeros(self.mem_size, dtype=np.int32)\n",
        "\n",
        "    def store_transition(self, state, action, reward, new_state, done):\n",
        "        index = self.mem_cntr % self.mem_size\n",
        "        self.state_memory[index] = state\n",
        "        self.new_state_memory[index] = new_state\n",
        "        self.action_memory[index] = action\n",
        "        self.reward_memory[index] = reward\n",
        "        self.terminal_memory[index] = done\n",
        "        self.mem_cntr += 1\n",
        "\n",
        "    def sample_buffer(self, batch_size):\n",
        "        max_mem = min(self.mem_cntr, self.mem_size)\n",
        "        batch = np.random.choice(max_mem, batch_size, replace=False)\n",
        "\n",
        "        states = self.state_memory[batch]\n",
        "        actions = self.action_memory[batch]\n",
        "        rewards = self.reward_memory[batch]\n",
        "        new_states = self.new_state_memory[batch]\n",
        "        dones = self.terminal_memory[batch]  # Corrected this line\n",
        "\n",
        "        return states, actions, rewards, new_states, dones"
      ]
    },
    {
      "cell_type": "markdown",
      "id": "3d270c1e",
      "metadata": {
        "id": "3d270c1e"
      },
      "source": [
        "\n",
        "### QLearningLayer\n",
        "\n",
        "This layer is designed for reinforcement learning tasks, using a Q-learning algorithm to learn the quality of actions.\n"
      ]
    },
    {
      "cell_type": "code",
      "execution_count": 22,
      "id": "d99d45e7",
      "metadata": {
        "collapsed": true,
        "id": "d99d45e7",
        "jupyter": {
          "outputs_hidden": true
        }
      },
      "outputs": [],
      "source": [
        "import tensorflow as tf\n",
        "from tensorflow.keras import layers\n",
        "\n",
        "class QLearningLayer(layers.Layer):\n",
        "    def __init__(self, action_space_size, learning_rate=0.01, gamma=0.95, **kwargs):\n",
        "        super(QLearningLayer, self).__init__(**kwargs)\n",
        "        self.action_space_size = action_space_size\n",
        "        self.learning_rate = learning_rate\n",
        "        self.gamma = gamma\n",
        "        self.q_network_dense = layers.Dense(self.action_space_size, activation=None)\n",
        "\n",
        "    def build(self, input_shape):\n",
        "        self.optimizer = tf.optimizers.Adam(learning_rate=self.learning_rate)\n",
        "\n",
        "    def call(self, state):\n",
        "        return self.q_network_dense(state)\n",
        "\n",
        "    def update(self, state, action, reward, next_state, done):\n",
        "        # Ensure that 'done' and 'reward' are float tensors\n",
        "        done = tf.cast(done, tf.float32)\n",
        "        reward = tf.cast(reward, tf.float32)\n",
        "\n",
        "        future_q_values = self.q_network_dense(next_state)\n",
        "        max_future_q = tf.reduce_max(future_q_values, axis=1)\n",
        "        target_q_value = reward + (1 - done) * self.gamma * max_future_q\n",
        "\n",
        "        with tf.GradientTape() as tape:\n",
        "            q_values = self.q_network_dense(state)\n",
        "            q_action = tf.reduce_sum(tf.multiply(q_values, tf.one_hot(action, self.action_space_size)), axis=1)\n",
        "            loss = tf.reduce_mean(tf.square(target_q_value - q_action))\n",
        "\n",
        "        grads = tape.gradient(loss, self.q_network_dense.trainable_variables)\n",
        "        self.optimizer.apply_gradients(zip(grads, self.q_network_dense.trainable_variables))\n",
        "\n",
        "    def save_weights(self, path):\n",
        "        self.q_network_dense.save_weights(path)\n",
        "\n",
        "    def load_weights(self, path):\n",
        "        self.q_network_dense.load_weights(path)\n",
        "\n",
        "# Example Usage\n",
        "action_space_size = 10  # Example action space size\n",
        "learning_rate = 0.01\n",
        "gamma = 0.95\n",
        "\n",
        "# Create an instance of the QLearningLayer\n",
        "q_learning_layer = QLearningLayer(action_space_size, learning_rate, gamma)\n",
        "\n",
        "# Example tensors for state, action, reward, next_state, and done flag\n",
        "state = tf.random.normal((1, 100))  # Example state tensor\n",
        "action = tf.constant([2])  # Example action (as an index)\n",
        "reward = tf.constant([1.0])  # Example reward\n",
        "next_state = tf.random.normal((1, 100))  # Example next state tensor\n",
        "done = tf.constant([0])  # Example done flag (0 for not done, 1 for done)\n",
        "\n",
        "# Ensure to call the layer to build it\n",
        "_ = q_learning_layer(state)\n",
        "\n",
        "# Update the QLearningLayer\n",
        "q_learning_layer.update(state, action, reward, next_state, done)"
      ]
    },
    {
      "cell_type": "markdown",
      "id": "41391791",
      "metadata": {
        "id": "41391791"
      },
      "source": [
        "\n",
        "## Helper Functions\n",
        "\n",
        "Defining helper functions such as positional encoding and transformer encoder with detailed comments for better understanding.\n"
      ]
    },
    {
      "cell_type": "markdown",
      "id": "f3709070",
      "metadata": {
        "id": "f3709070"
      },
      "source": [
        "\n",
        "### Positional Encoding Function\n",
        "\n",
        "Positional encoding adds information about the position of elements in the input sequence, crucial for models like transformers.\n"
      ]
    },
    {
      "cell_type": "code",
      "execution_count": 18,
      "id": "f0616acf",
      "metadata": {
        "collapsed": true,
        "id": "f0616acf",
        "jupyter": {
          "outputs_hidden": true
        }
      },
      "outputs": [],
      "source": [
        "def positional_encoding(seq_length, d_model):\n",
        "    position = tf.range(seq_length, dtype=tf.float32)[:, tf.newaxis]\n",
        "    div_term = tf.exp(tf.range(0, d_model, 2, dtype=tf.float32) * -(tf.math.log(10000.0) / d_model))\n",
        "\n",
        "    # Creating sine and cosine functions separately and then concatenating them\n",
        "    sine_terms = tf.sin(position * div_term)\n",
        "    cosine_terms = tf.cos(position * div_term)\n",
        "\n",
        "    # Interleaving sine and cosine terms\n",
        "    pos_encoding = tf.reshape(tf.concat([sine_terms, cosine_terms], axis=-1), [1, seq_length, d_model])\n",
        "\n",
        "    return pos_encoding"
      ]
    },
    {
      "cell_type": "markdown",
      "id": "a1527ac5",
      "metadata": {
        "id": "a1527ac5"
      },
      "source": [
        "\n",
        "### Transformer Encoder Function\n",
        "\n",
        "The transformer encoder function applies transformations to the input data using layer normalization and multi-head attention, followed by a series of dense layers.\n"
      ]
    },
    {
      "cell_type": "code",
      "execution_count": 11,
      "id": "fd3e2ba8",
      "metadata": {
        "collapsed": true,
        "id": "fd3e2ba8",
        "jupyter": {
          "outputs_hidden": true
        }
      },
      "outputs": [],
      "source": [
        "\n",
        "def transformer_encoder(inputs, head_size, num_heads, ff_dim, dropout=0):\n",
        "    x = layers.LayerNormalization(epsilon=1e-6)(inputs)\n",
        "    x = layers.MultiHeadAttention(key_dim=head_size, num_heads=num_heads, dropout=dropout)(x, x)\n",
        "    x = layers.Dropout(dropout)(x)\n",
        "    res = x + inputs\n",
        "\n",
        "    x = layers.LayerNormalization(epsilon=1e-6)(res)\n",
        "    x = layers.Dense(ff_dim, activation=\"relu\")(x)\n",
        "    x = layers.Dropout(dropout)(x)\n",
        "    x = layers.Dense(inputs.shape[-1])(x)\n",
        "    return x + res\n"
      ]
    },
    {
      "cell_type": "markdown",
      "id": "YBVcTa4RrqET",
      "metadata": {
        "id": "YBVcTa4RrqET"
      },
      "source": [
        "\n",
        "## Model Building and Compilation\n",
        "\n",
        "Here we build and compile the neural network model, ensuring clarity and efficiency in the code."
      ]
    },
    {
      "cell_type": "code",
      "execution_count": 24,
      "id": "ejKzJQNWrxJK",
      "metadata": {
        "colab": {
          "base_uri": "https://localhost:8080/",
          "height": 1000
        },
        "id": "ejKzJQNWrxJK",
        "outputId": "ceb386b8-1625-497e-af61-748997c36c74"
      },
      "outputs": [
        {
          "output_type": "display_data",
          "data": {
            "text/plain": [
              "<Figure size 1000x1000 with 1 Axes>"
            ],
            "image/png": "[encoded data removed]"
          },
          "metadata": {}
        },
        {
          "output_type": "stream",
          "name": "stdout",
          "text": [
            "Model: \"model_1\"\n",
            "__________________________________________________________________________________________________\n",
            " Layer (type)                Output Shape                 Param #   Connected to                  \n",
            "==================================================================================================\n",
            " input_7 (InputLayer)        [(None, 128, 512)]           0         []                            \n",
            "                                                                                                  \n",
            " bidirectional_6 (Bidirecti  (None, 128, 256)             656384    ['input_7[0][0]']             \n",
            " onal)                                                                                            \n",
            "                                                                                                  \n",
            " conv1d_6 (Conv1D)           (None, 128, 32)              24608     ['bidirectional_6[0][0]']     \n",
            "                                                                                                  \n",
            " tf.__operators__.add_16 (T  (None, 128, 32)              0         ['conv1d_6[0][0]']            \n",
            " FOpLambda)                                                                                       \n",
            "                                                                                                  \n",
            " multi_head_attention_5 (Mu  (None, 128, 32)              8416      ['tf.__operators__.add_16[0][0\n",
            " ltiHeadAttention)                                                  ]',                           \n",
            "                                                                     'tf.__operators__.add_16[0][0\n",
            "                                                                    ]']                           \n",
            "                                                                                                  \n",
            " dropout_10 (Dropout)        (None, 128, 32)              0         ['multi_head_attention_5[0][0]\n",
            "                                                                    ']                            \n",
            "                                                                                                  \n",
            " tf.__operators__.add_17 (T  (None, 128, 32)              0         ['tf.__operators__.add_16[0][0\n",
            " FOpLambda)                                                         ]',                           \n",
            "                                                                     'dropout_10[0][0]']          \n",
            "                                                                                                  \n",
            " layer_normalization_10 (La  (None, 128, 32)              64        ['tf.__operators__.add_17[0][0\n",
            " yerNormalization)                                                  ]']                           \n",
            "                                                                                                  \n",
            " dense_12 (Dense)            (None, 128, 64)              2112      ['layer_normalization_10[0][0]\n",
            "                                                                    ']                            \n",
            "                                                                                                  \n",
            " dense_13 (Dense)            (None, 128, 32)              2080      ['dense_12[0][0]']            \n",
            "                                                                                                  \n",
            " dropout_11 (Dropout)        (None, 128, 32)              0         ['dense_13[0][0]']            \n",
            "                                                                                                  \n",
            " tf.__operators__.add_18 (T  (None, 128, 32)              0         ['layer_normalization_10[0][0]\n",
            " FOpLambda)                                                         ',                            \n",
            "                                                                     'dropout_11[0][0]']          \n",
            "                                                                                                  \n",
            " layer_normalization_11 (La  (None, 128, 32)              64        ['tf.__operators__.add_18[0][0\n",
            " yerNormalization)                                                  ]']                           \n",
            "                                                                                                  \n",
            " rbm_layer_8 (RBMLayer)      (None, 128, 256)             8448      ['layer_normalization_11[0][0]\n",
            "                                                                    ']                            \n",
            "                                                                                                  \n",
            " q_learning_layer_6 (QLearn  (None, 128, 10)              2570      ['rbm_layer_8[0][0]']         \n",
            " ingLayer)                                                                                        \n",
            "                                                                                                  \n",
            " flatten_1 (Flatten)         (None, 1280)                 0         ['q_learning_layer_6[0][0]']  \n",
            "                                                                                                  \n",
            " Output (Dense)              (None, 10)                   12810     ['flatten_1[0][0]']           \n",
            "                                                                                                  \n",
            " Reward (Dense)              (None, 1)                    1281      ['flatten_1[0][0]']           \n",
            "                                                                                                  \n",
            "==================================================================================================\n",
            "Total params: 718837 (2.74 MB)\n",
            "Trainable params: 718837 (2.74 MB)\n",
            "Non-trainable params: 0 (0.00 Byte)\n",
            "__________________________________________________________________________________________________\n"
          ]
        }
      ],
      "source": [
        "import tensorflow as tf\n",
        "from tensorflow.keras import layers, models, optimizers\n",
        "import numpy as np\n",
        "\n",
        "# ReplayBuffer implementation\n",
        "class ReplayBuffer:\n",
        "    def __init__(self, max_size, input_shape, n_actions):\n",
        "        self.mem_size = max_size\n",
        "        self.mem_cntr = 0\n",
        "        self.state_memory = np.zeros((self.mem_size,) + input_shape, dtype=np.float32)\n",
        "        self.new_state_memory = np.zeros((self.mem_size,) + input_shape, dtype=np.float32)\n",
        "        self.action_memory = np.zeros((self.mem_size, n_actions), dtype=np.int8)\n",
        "        self.reward_memory = np.zeros(self.mem_size, dtype=np.float32)\n",
        "        self.terminal_memory = np.zeros(self.mem_size, dtype=np.int32)\n",
        "\n",
        "    def store_transition(self, state, action, reward, new_state, done):\n",
        "        index = self.mem_cntr % self.mem_size\n",
        "        self.state_memory[index] = state\n",
        "        self.new_state_memory[index] = new_state\n",
        "        self.action_memory[index] = action\n",
        "        self.reward_memory[index] = reward\n",
        "        self.terminal_memory[index] = done\n",
        "        self.mem_cntr += 1\n",
        "\n",
        "    def sample_buffer(self, batch_size):\n",
        "        max_mem = min(self.mem_cntr, self.mem_size)\n",
        "        batch = np.random.choice(max_mem, batch_size, replace=False)\n",
        "\n",
        "        states = self.state_memory[batch]\n",
        "        actions = self.action_memory[batch]\n",
        "        rewards = self.reward_memory[batch]\n",
        "        new_states = self.new_state_memory[batch]\n",
        "        dones = self.terminal_memory[batch]\n",
        "\n",
        "        return states, actions, rewards, new_states, dones\n",
        "\n",
        "# RBM Layer definition\n",
        "class RBMLayer(layers.Layer):\n",
        "    def __init__(self, num_hidden_units):\n",
        "        super(RBMLayer, self).__init__()\n",
        "        self.num_hidden_units = num_hidden_units\n",
        "\n",
        "    def build(self, input_shape):\n",
        "        self.rbm_weights = self.add_weight(shape=(input_shape[-1], self.num_hidden_units),\n",
        "                                           initializer='random_normal',\n",
        "                                           trainable=True)\n",
        "        self.biases = self.add_weight(shape=(self.num_hidden_units,),\n",
        "                                      initializer='zeros',\n",
        "                                      trainable=True)\n",
        "\n",
        "    def call(self, inputs):\n",
        "        activation = tf.matmul(inputs, self.rbm_weights) + self.biases\n",
        "        return tf.nn.sigmoid(activation)\n",
        "\n",
        "# QLearningLayer definition\n",
        "class QLearningLayer(layers.Layer):\n",
        "    def __init__(self, action_space_size, state_size, learning_rate=0.01, gamma=0.95, epsilon=0.1, **kwargs):\n",
        "        super().__init__(**kwargs)\n",
        "        self.action_space_size = action_space_size\n",
        "        self.state_size = state_size  # Ensure this is a tuple\n",
        "        self.learning_rate = learning_rate\n",
        "        self.gamma = gamma\n",
        "        self.epsilon = epsilon\n",
        "        # Correctly pass state_size as a tuple\n",
        "        self.replay_buffer = ReplayBuffer(100000, self.state_size, self.action_space_size)\n",
        "\n",
        "    def build(self, input_shape):\n",
        "        self.q_network = layers.Dense(self.action_space_size, activation=None)\n",
        "        self.optimizer = tf.optimizers.Adam(learning_rate=self.learning_rate)\n",
        "\n",
        "    def call(self, state):\n",
        "        return self.q_network(state)\n",
        "\n",
        "    def update(self, batch_size):\n",
        "        if self.replay_buffer.mem_cntr < batch_size:\n",
        "            return\n",
        "\n",
        "        state, action, reward, new_state, done = self.replay_buffer.sample_buffer(batch_size)\n",
        "\n",
        "        with tf.GradientTape() as tape:\n",
        "            q_values = self.q_network(state)\n",
        "            q_action = tf.reduce_sum(tf.multiply(q_values, tf.one_hot(action, self.action_space_size)), axis=1)\n",
        "            next_q_values = self.q_network(new_state)\n",
        "            max_next_q_values = tf.reduce_max(next_q_values, axis=1)\n",
        "            target_q_values = reward + self.gamma * max_next_q_values * (1 - done)\n",
        "            loss = tf.reduce_mean(tf.square(target_q_values - q_action))\n",
        "\n",
        "        grads = tape.gradient(loss, self.q_network.trainable_variables)\n",
        "        self.optimizer.apply_gradients(zip(grads, self.q_network.trainable_variables))\n",
        "\n",
        "    def store_transition(self, state, action, reward, next_state, done):\n",
        "        self.replay_buffer.store_transition(state, action, reward, next_state, done)\n",
        "\n",
        "    def choose_action(self, state):\n",
        "        if np.random.random() < self.epsilon:\n",
        "            action = np.random.choice(self.action_space_size)\n",
        "        else:\n",
        "            state = np.array([state])\n",
        "            q_values = self.q_network.predict(state)\n",
        "            action = np.argmax(q_values)\n",
        "\n",
        "        return action\n",
        "\n",
        "# Helper functions\n",
        "def positional_encoding(seq_length, d_model):\n",
        "    position = tf.range(seq_length, dtype=tf.float32)[:, tf.newaxis]\n",
        "    div_term = tf.exp(tf.range(0, d_model // 2, dtype=tf.float32) * -(tf.math.log(10000.0) / d_model))\n",
        "    pos_encoding = position * div_term\n",
        "    sin_cos_encoding = tf.concat([tf.sin(pos_encoding), tf.cos(pos_encoding)], axis=-1)\n",
        "    return sin_cos_encoding[tf.newaxis, ...]\n",
        "\n",
        "def transformer_encoder(inputs, head_size, num_heads, ff_dim, dropout_rate=0.1):\n",
        "    attention_output = layers.MultiHeadAttention(key_dim=head_size, num_heads=num_heads, dropout=dropout_rate)(inputs, inputs)\n",
        "    attention_output = layers.Dropout(dropout_rate)(attention_output)\n",
        "    attention_output = layers.LayerNormalization(epsilon=1e-6)(inputs + attention_output)\n",
        "\n",
        "    ffn_output = layers.Dense(ff_dim, activation=\"relu\")(attention_output)\n",
        "    ffn_output = layers.Dense(inputs.shape[-1])(ffn_output)\n",
        "    ffn_output = layers.Dropout(dropout_rate)(ffn_output)\n",
        "    return layers.LayerNormalization(epsilon=1e-6)(attention_output + ffn_output)\n",
        "\n",
        "# Model building function with RBM layer integration\n",
        "def create_neural_network_model(seq_length, d_model, num_classes, num_hidden_units):\n",
        "    input_layer = layers.Input(shape=(seq_length, d_model))\n",
        "\n",
        "    # Adjust the number of features in positional encoding to match x_conv's output\n",
        "    pos_encoding = positional_encoding(seq_length, 32)  # Changed from d_model to 32\n",
        "\n",
        "    x_lstm = layers.Bidirectional(layers.LSTM(128, return_sequences=True))(input_layer)\n",
        "    x_conv = layers.Conv1D(filters=32, kernel_size=3, padding='same', activation='relu')(x_lstm)\n",
        "\n",
        "    x_pos_encoded = x_conv + pos_encoding  # Ensure the shapes match for addition\n",
        "\n",
        "    transformer_output = transformer_encoder(x_pos_encoded, head_size=32, num_heads=2, ff_dim=64)\n",
        "\n",
        "    state_size = (transformer_output.shape[1] * transformer_output.shape[2],)  # Corrected to tuple\n",
        "\n",
        "    x_rbm = RBMLayer(num_hidden_units)(transformer_output)\n",
        "    rl_layer = QLearningLayer(action_space_size=num_classes, state_size=state_size)(x_rbm)\n",
        "\n",
        "    reshaped_output = layers.Flatten()(rl_layer)\n",
        "\n",
        "    output_layer = layers.Dense(num_classes, activation='softmax', name='Output')(reshaped_output)\n",
        "    reward_layer = layers.Dense(1, name='Reward')(reshaped_output)\n",
        "\n",
        "    model = models.Model(inputs=input_layer, outputs=[output_layer, reward_layer])\n",
        "\n",
        "    opt = optimizers.Adam(learning_rate=0.001)\n",
        "    model.compile(optimizer=opt,\n",
        "                  loss={'Output': 'categorical_crossentropy', 'Reward': 'mean_squared_error'},\n",
        "                  metrics={'Output': 'accuracy'})\n",
        "\n",
        "    return model\n",
        "\n",
        "# Model parameters\n",
        "seq_length = 128\n",
        "d_model = 512\n",
        "num_classes = 10\n",
        "num_hidden_units = 256  # Example number of hidden units in RBM\n",
        "\n",
        "# Create and compile the model\n",
        "model = create_neural_network_model(seq_length, d_model, num_classes, num_hidden_units)\n",
        "\n",
        "# Visualizing the model architecture\n",
        "tf.keras.utils.plot_model(model, to_file='Sephs_Model.png', show_shapes=True, show_layer_names=True)\n",
        "\n",
        "# Displaying the model architecture image\n",
        "import matplotlib.pyplot as plt\n",
        "image = plt.imread('model_architecture.png')\n",
        "plt.figure(figsize=(10, 10))\n",
        "plt.imshow(image)\n",
        "plt.axis('off')\n",
        "plt.show()\n",
        "\n",
        "# Printing the model summary\n",
        "model.summary()"
      ]
    },
    {
      "cell_type": "markdown",
      "id": "I6-wtVFKr-AY",
      "metadata": {
        "id": "I6-wtVFKr-AY"
      },
      "source": [
        "## Model Training\n",
        "\n",
        "In this section, we initialize the BipedalWalker environment using Gym and define the parameters required for training the neural network model.\n",
        "\n",
        "```python\n",
        "import gym\n",
        "import numpy as np\n",
        "from tensorflow.keras.utils import to_categorical\n",
        "\n",
        "# Initialize the BipedalWalker environment\n",
        "env = gym.make('BipedalWalker-v3')\n",
        "\n",
        "# Parameters\n",
        "num_episodes = 500\n",
        "batch_size = 32\n",
        "seq_length = 128  # This should match the first dimension of the model's input shape\n",
        "d_model = 24  # Adjust based on the environment's observation space\n",
        "num_classes = env.action_space.shape[0]\n"
      ]
    },
    {
      "cell_type": "code",
      "execution_count": null,
      "id": "9J-HCVogr__r",
      "metadata": {
        "id": "9J-HCVogr__r"
      },
      "outputs": [],
      "source": [
        "# Initialize the BipedalWalker environment\n",
        "env = gym.make('BipedalWalker-v3')\n",
        "\n",
        "# Parameters\n",
        "num_episodes = 500\n",
        "batch_size = 32\n",
        "seq_length = 128  # This should match the first dimension of the model's input shape\n",
        "d_model = 24  # Adjust based on the environment's observation space\n",
        "num_classes = env.action_space.shape[0]\n",
        "\n",
        "# Reshape and preprocess function\n",
        "def preprocess(observation):\n",
        "    # Reshape or preprocess observation here\n",
        "    return observation.reshape(-1, seq_length, d_model)\n",
        "\n",
        "# Training loop\n",
        "for episode in range(num_episodes):\n",
        "    state = env.reset()\n",
        "    done = False\n",
        "    episode_reward = 0\n",
        "\n",
        "    while not done:\n",
        "        state_reshaped = preprocess(state)\n",
        "\n",
        "        # Predict action based on the current state\n",
        "        action_probs = model.predict(state_reshaped)\n",
        "        action = np.argmax(action_probs)  # Sample an action based on probabilities\n",
        "\n",
        "        # Take the action in the environment\n",
        "        next_state, reward, done, _ = env.step(action)\n",
        "        episode_reward += reward\n",
        "\n",
        "        # Store the transition in the replay buffer\n",
        "        replay_buffer.store_transition(state, action, reward, next_state, done)\n",
        "\n",
        "        # Update state\n",
        "        state = next_state\n",
        "\n",
        "        # Training step (update the model)\n",
        "        if replay_buffer.mem_cntr >= batch_size:\n",
        "            states, actions, rewards, next_states, dones = replay_buffer.sample_buffer(batch_size)\n",
        "            # Transform actions, rewards, etc., as required\n",
        "            # Perform a training step here\n",
        "\n",
        "    print(f'Episode: {episode+1}, Total Reward: {episode_reward}')\n",
        "\n",
        "# Save the trained model\n",
        "model.save('/mnt/data/SephsRL_BipedalWalker.h5')\n",
        "print(\"Model saved in BipedalWalker environment.\")\n"
      ]
    },
    {
      "cell_type": "markdown",
      "id": "154263f6",
      "metadata": {
        "id": "154263f6"
      },
      "source": [
        "## Model Evaluation\n",
        "\n",
        "After training the model, it's important to evaluate its performance on a test dataset to understand its efficacy. The following code will use the `model.evaluate()` function to assess the model's accuracy and loss on the test data."
      ]
    },
    {
      "cell_type": "code",
      "execution_count": null,
      "id": "70d01f4c",
      "metadata": {
        "collapsed": true,
        "id": "70d01f4c",
        "jupyter": {
          "outputs_hidden": true
        }
      },
      "outputs": [],
      "source": [
        "# Evaluate the model on the test data\n",
        "# test_data = ...\n",
        "\n",
        "evaluation_metrics = model.evaluate(test_data)\n",
        "print(f\"Test Loss: {evaluation_metrics[0]}, Test Accuracy: {evaluation_metrics[1]}\")"
      ]
    },
    {
      "cell_type": "markdown",
      "id": "f7ca1a1f",
      "metadata": {
        "id": "f7ca1a1f"
      },
      "source": [
        "\n",
        "## Visualizing Model Performance\n",
        "\n",
        "Functions for plotting and analyzing the model's performance during training.\n"
      ]
    },
    {
      "cell_type": "code",
      "execution_count": null,
      "id": "65d2c85c",
      "metadata": {
        "collapsed": true,
        "id": "65d2c85c",
        "jupyter": {
          "outputs_hidden": true
        }
      },
      "outputs": [],
      "source": [
        "\n",
        "import matplotlib.pyplot as plt\n",
        "\n",
        "# Function to plot training history for both 'Output' and 'Reward' outputs, tailored to their characteristics\n",
        "def plot_custom_output_history(history):\n",
        "    num_plots = 2 + ('accuracy' in history.history)\n",
        "    fig, axes = plt.subplots(1, num_plots, figsize=(6 * num_plots, 5))\n",
        "\n",
        "    plot_index = 0\n",
        "\n",
        "    # Plotting accuracy for 'Output', if it's available\n",
        "    if 'accuracy' in history.history:\n",
        "        axes[plot_index].plot(history.history['accuracy'], label='Training Accuracy - Output')\n",
        "        axes[plot_index].plot(history.history['val_accuracy'], label='Validation Accuracy - Output')\n",
        "        axes[plot_index].set_title('Accuracy for Output')\n",
        "        axes[plot_index].set_xlabel('Epochs')\n",
        "        axes[plot_index].set_ylabel('Accuracy')\n",
        "        axes[plot_index].legend()\n",
        "        plot_index += 1\n",
        "\n",
        "    # Plotting loss for 'Output'\n",
        "    axes[plot_index].plot(history.history['Output_loss'], label='Training Loss - Output')\n",
        "    axes[plot_index].plot(history.history['val_Output_loss'], label='Validation Loss - Output')\n",
        "    axes[plot_index].set_title('Loss for Output')\n",
        "    axes[plot_index].set_xlabel('Epochs')\n",
        "    axes[plot_index].set_ylabel('Loss')\n",
        "    axes[plot_index].legend()\n",
        "    plot_index += 1\n",
        "\n",
        "    # Plotting loss for 'Reward'\n",
        "    axes[plot_index].plot(history.history['Reward_loss'], label='Training Loss - Reward')\n",
        "    axes[plot_index].plot(history.history['val_Reward_loss'], label='Validation Loss - Reward')\n",
        "    axes[plot_index].set_title('Loss for Reward')\n",
        "    axes[plot_index].set_xlabel('Epochs')\n",
        "    axes[plot_index].set_ylabel('Loss')\n",
        "    axes[plot_index].legend()\n",
        "\n",
        "    plt.tight_layout()\n",
        "    plt.show()\n",
        "\n",
        "# Call the function with the training history\n",
        "plot_custom_output_history(history)\n"
      ]
    },
    {
      "cell_type": "markdown",
      "id": "eb2d5ffc",
      "metadata": {
        "id": "eb2d5ffc"
      },
      "source": [
        "\n",
        "## Conclusion\n",
        "\n",
        "This notebook provided a detailed walkthrough for developing, training, and evaluating a neural network model with custom layers and advanced techniques, ensuring good coding practices and clear documentation throughout.\n"
      ]
    }
  ],
  "metadata": {
    "colab": {
      "provenance": [],
      "include_colab_link": true
    },
    "kernelspec": {
      "display_name": "Python 3 (ipykernel)",
      "language": "python",
      "name": "python3"
    },
    "language_info": {
      "codemirror_mode": {
        "name": "ipython",
        "version": 3
      },
      "file_extension": ".py",
      "mimetype": "text/x-python",
      "name": "python",
      "nbconvert_exporter": "python",
      "pygments_lexer": "ipython3",
      "version": "3.11.0"
    }
  },
  "nbformat": 4,
  "nbformat_minor": 5
}