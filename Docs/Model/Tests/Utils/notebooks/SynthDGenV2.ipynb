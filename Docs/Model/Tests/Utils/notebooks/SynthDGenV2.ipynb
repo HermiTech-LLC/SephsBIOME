{
  "cells": [
    {
      "cell_type": "markdown",
      "id": "15bc5646",
      "metadata": {
        "id": "15bc5646"
      },
      "source": [
        "# Synthetic Dataset Generation for NLP and Robotic Kinematics\n",
        "\n",
        "This notebook generates a synthetic dataset optimized for combined NLP and robotic kinematics tasks in a reinforcement learning model. The dataset includes both textual and sensor data, with feature engineering applied to enhance its suitability for machine learning tasks."
      ]
    },
    {
      "cell_type": "code",
      "source": [
        "%%capture\n",
        "!pip install markovify"
      ],
      "metadata": {
        "id": "FpdPpHM46K3N"
      },
      "id": "FpdPpHM46K3N",
      "execution_count": null,
      "outputs": []
    },
    {
      "cell_type": "code",
      "execution_count": null,
      "id": "122400e3",
      "metadata": {
        "colab": {
          "base_uri": "https://localhost:8080/"
        },
        "id": "122400e3",
        "outputId": "c5bd3dd4-a79a-485e-dd93-8e6a765295f8"
      },
      "outputs": [
        {
          "output_type": "stream",
          "name": "stderr",
          "text": [
            "[nltk_data] Downloading package brown to /root/nltk_data...\n",
            "[nltk_data]   Unzipping corpora/brown.zip.\n"
          ]
        },
        {
          "output_type": "execute_result",
          "data": {
            "text/plain": [
              "True"
            ]
          },
          "metadata": {},
          "execution_count": 2
        }
      ],
      "source": [
        "import os\n",
        "import pandas as pd\n",
        "import numpy as np\n",
        "from datetime import datetime, timedelta\n",
        "import random\n",
        "import nltk\n",
        "from nltk.corpus import brown\n",
        "import markovify\n",
        "from sklearn.preprocessing import StandardScaler\n",
        "from sklearn.feature_extraction.text import CountVectorizer\n",
        "from imblearn.under_sampling import RandomUnderSampler\n",
        "\n",
        "nltk.download('brown')\n"
      ]
    },
    {
      "cell_type": "markdown",
      "id": "622bfbf3",
      "metadata": {
        "id": "622bfbf3"
      },
      "source": [
        "## NLP Data Generation Using Brown Corpus"
      ]
    },
    {
      "cell_type": "code",
      "execution_count": null,
      "id": "3b5cdcbe",
      "metadata": {
        "id": "3b5cdcbe"
      },
      "outputs": [],
      "source": [
        "\n",
        "# Generate text data using Markov chains built from the Brown corpus\n",
        "text = ' '.join(brown.words())\n",
        "text_model = markovify.Text(text)\n",
        "\n",
        "def generate_text_data(num_samples):\n",
        "    return [text_model.make_short_sentence(100) for _ in range(num_samples)]\n"
      ]
    },
    {
      "cell_type": "markdown",
      "id": "5fe3a9c4",
      "metadata": {
        "id": "5fe3a9c4"
      },
      "source": [
        "## Synthetic Dataset Generation Function"
      ]
    },
    {
      "cell_type": "code",
      "execution_count": null,
      "id": "a1e7bd45",
      "metadata": {
        "id": "a1e7bd45"
      },
      "outputs": [],
      "source": [
        "\n",
        "def generate_synthetic_dataset(num_samples=1000, num_sensors=128, num_actions=10, noise_level=0.05):\n",
        "    timestamps = [datetime.now() + timedelta(seconds=i) for i in range(num_samples)]\n",
        "    text_data = generate_text_data(num_samples)\n",
        "    sensor_data = {}\n",
        "    for i in range(num_sensors):\n",
        "        period = np.random.randint(10, 100)\n",
        "        sensor_data[f'sensor_{i}'] = np.sin(np.linspace(0, 2 * np.pi * period, num_samples)) + np.random.normal(0, noise_level, num_samples)\n",
        "    action_data = np.random.randint(0, num_actions, num_samples)\n",
        "    reward_data = np.random.uniform(-1, 1, num_samples)\n",
        "    return pd.DataFrame({\n",
        "        'timestamp': timestamps,\n",
        "        'text_data': text_data,\n",
        "        **sensor_data,\n",
        "        'action': action_data,\n",
        "        'reward': reward_data\n",
        "    })\n"
      ]
    },
    {
      "cell_type": "markdown",
      "id": "6d941e6c",
      "metadata": {
        "id": "6d941e6c"
      },
      "source": [
        "## Feature Engineering"
      ]
    },
    {
      "cell_type": "code",
      "execution_count": null,
      "id": "e84464e3",
      "metadata": {
        "id": "e84464e3"
      },
      "outputs": [],
      "source": [
        "\n",
        "def feature_engineering(df):\n",
        "    scaler = StandardScaler()\n",
        "    for col in df.columns:\n",
        "        if col.startswith('sensor_'):\n",
        "            df[col] = scaler.fit_transform(df[[col]])\n",
        "    return df\n",
        "\n",
        "import pandas as pd\n",
        "from sklearn.preprocessing import StandardScaler\n",
        "from sklearn.feature_extraction.text import TfidfVectorizer\n",
        "\n",
        "def wrangle_data(file_path):\n",
        "    # Load the dataset\n",
        "    data = pd.read_csv(file_path)\n",
        "\n",
        "    # Parse the timestamp\n",
        "    data['timestamp'] = pd.to_datetime(data['timestamp'])\n",
        "\n",
        "    # Handle missing values (if any)\n",
        "    # This is a placeholder; you'll need to decide how to handle missing values based on your specific dataset\n",
        "    data = data.fillna(method='ffill')\n",
        "\n",
        "    # Encode the 'text_data' using TF-IDF\n",
        "    # Note: You might want to adjust max_features based on the dataset\n",
        "    tfidf = TfidfVectorizer(max_features=50)\n",
        "    tfidf_features = tfidf.fit_transform(data['text_data']).toarray()\n",
        "    tfidf_df = pd.DataFrame(tfidf_features, columns=[f'text_{i}' for i in range(tfidf_features.shape[1])])\n",
        "    data = pd.concat([data, tfidf_df], axis=1).drop('text_data', axis=1)\n",
        "\n",
        "    # Normalize the sensor data\n",
        "    sensor_columns = [col for col in data.columns if col.startswith('sensor_')]\n",
        "    scaler = StandardScaler()\n",
        "    data[sensor_columns] = scaler.fit_transform(data[sensor_columns])\n",
        "\n",
        "    return data\n",
        "\n",
        "# Usage\n",
        "file_path = '/content/synthetic_datasetV3.csv'\n",
        "processed_data = wrangle_data(file_path)\n"
      ]
    },
    {
      "cell_type": "markdown",
      "id": "b909f450",
      "metadata": {
        "id": "b909f450"
      },
      "source": [
        "## Dataset Reorganization for Reinforcement Learning"
      ]
    },
    {
      "cell_type": "code",
      "execution_count": null,
      "id": "562c560f",
      "metadata": {
        "id": "562c560f"
      },
      "outputs": [],
      "source": [
        "\n",
        "def reorganize_for_rl(df, num_sensors=128):\n",
        "    sensor_columns = [f'sensor_{i}' for i in range(num_sensors)]\n",
        "    action_counts = df['action'].value_counts()\n",
        "    min_count = action_counts.min()\n",
        "    balanced_df = pd.concat([df[df['action'] == action].sample(min_count) for action in action_counts.index])\n",
        "    return balanced_df\n"
      ]
    },
    {
      "cell_type": "markdown",
      "source": [
        "## Directory Creation for File Saving\n",
        "\n",
        "Before saving files, it's important to ensure that the target directory exists. The following cell will create the `/mnt/data` directory if it doesn't already exist. This prevents errors when saving files to this directory."
      ],
      "metadata": {
        "id": "qU-bcNU06_az"
      },
      "id": "qU-bcNU06_az"
    },
    {
      "cell_type": "code",
      "source": [
        "# Create the directory if it doesn't exist\n",
        "os.makedirs('/mnt/data', exist_ok=True)"
      ],
      "metadata": {
        "id": "dWk__9tS7F5P"
      },
      "id": "dWk__9tS7F5P",
      "execution_count": null,
      "outputs": []
    },
    {
      "cell_type": "markdown",
      "id": "1cd1f8d3",
      "metadata": {
        "id": "1cd1f8d3"
      },
      "source": [
        "## Generate and Save the Dataset"
      ]
    },
    {
      "cell_type": "code",
      "execution_count": null,
      "id": "b80dd06d",
      "metadata": {
        "id": "b80dd06d",
        "colab": {
          "base_uri": "https://localhost:8080/"
        },
        "outputId": "74e5e500-259d-4aa0-f0f3-e5e0fc5e21c6"
      },
      "outputs": [
        {
          "output_type": "stream",
          "name": "stdout",
          "text": [
            "Mounted at /content/drive\n"
          ]
        }
      ],
      "source": [
        "# Generate the dataset\n",
        "dataset = generate_synthetic_dataset()\n",
        "\n",
        "# Apply feature engineering\n",
        "engineered_dataset = feature_engineering(dataset)\n",
        "\n",
        "# Reorganize the dataset for RL\n",
        "rl_dataset = reorganize_for_rl(engineered_dataset)\n",
        "\n",
        "# Save to CSV in Colab's local workspace\n",
        "rl_dataset.to_csv('synthetic_dataset_advanced.csv', index=False)\n",
        "\n",
        "# Optionally, to save in Google Drive, mount your drive (uncomment the following lines):\n",
        "\n",
        "from google.colab import drive\n",
        "drive.mount('/content/drive')\n",
        "\n",
        "# Then, specify the path in your drive where you want to save the file\n",
        "rl_dataset.to_csv('/content/drive/My Drive/synthetic_datasetV3.csv', index=False)\n"
      ]
    },
    {
      "cell_type": "code",
      "source": [
        "df = pd.read_csv('/content/synthetic_dataset_advanced.csv')\n",
        "df.head(3)"
      ],
      "metadata": {
        "id": "MqQbNLMf-Jhl",
        "colab": {
          "base_uri": "https://localhost:8080/",
          "height": 349
        },
        "outputId": "bd78b9c1-9383-4812-c0a3-2498658e9448"
      },
      "id": "MqQbNLMf-Jhl",
      "execution_count": null,
      "outputs": [
        {
          "output_type": "execute_result",
          "data": {
            "text/plain": [
              "                    timestamp  \\\n",
              "0  2024-02-06 00:53:50.668844   \n",
              "1  2024-02-06 00:48:48.668504   \n",
              "2  2024-02-06 00:54:48.668907   \n",
              "\n",
              "                                           text_data  sensor_0  sensor_1  \\\n",
              "0                                                NaN -0.733090 -0.952240   \n",
              "1  7 the portion of the knife . **yc is defined b...  1.478311 -0.572608   \n",
              "2  2 . Plastic signs are economical . According t...  1.289525 -0.275127   \n",
              "\n",
              "   sensor_2  sensor_3  sensor_4  sensor_5  sensor_6  sensor_7  ...  \\\n",
              "0 -1.022493 -1.283032  0.450022 -0.284153 -0.911242  0.789324  ...   \n",
              "1  0.995453  0.521949 -0.075699  1.381793 -0.511772  1.422475  ...   \n",
              "2 -0.421727 -1.424338 -1.473373  1.157909 -0.217900 -0.820891  ...   \n",
              "\n",
              "   sensor_120  sensor_121  sensor_122  sensor_123  sensor_124  sensor_125  \\\n",
              "0    1.287007   -0.979347   -1.007706   -0.778173    1.293042   -1.121060   \n",
              "1   -0.489740    0.409230    0.352797    1.500702    1.450614    1.414393   \n",
              "2    1.068416    1.485613    1.418063    1.284905   -1.401183    1.123872   \n",
              "\n",
              "   sensor_126  sensor_127  action    reward  \n",
              "0    0.745845    0.526928       6 -0.991363  \n",
              "1    1.411396   -0.245006       6 -0.356302  \n",
              "2   -0.653912   -0.642793       6  0.974335  \n",
              "\n",
              "[3 rows x 132 columns]"
            ],
            "text/html": [
              "\n",
              "  <div id=\"df-909d6d52-bd30-469b-9f6e-267ac7e07bf2\" class=\"colab-df-container\">\n",
              "    <div>\n",
              "<style scoped>\n",
              "    .dataframe tbody tr th:only-of-type {\n",
              "        vertical-align: middle;\n",
              "    }\n",
              "\n",
              "    .dataframe tbody tr th {\n",
              "        vertical-align: top;\n",
              "    }\n",
              "\n",
              "    .dataframe thead th {\n",
              "        text-align: right;\n",
              "    }\n",
              "</style>\n",
              "<table border=\"1\" class=\"dataframe\">\n",
              "  <thead>\n",
              "    <tr style=\"text-align: right;\">\n",
              "      <th></th>\n",
              "      <th>timestamp</th>\n",
              "      <th>text_data</th>\n",
              "      <th>sensor_0</th>\n",
              "      <th>sensor_1</th>\n",
              "      <th>sensor_2</th>\n",
              "      <th>sensor_3</th>\n",
              "      <th>sensor_4</th>\n",
              "      <th>sensor_5</th>\n",
              "      <th>sensor_6</th>\n",
              "      <th>sensor_7</th>\n",
              "      <th>...</th>\n",
              "      <th>sensor_120</th>\n",
              "      <th>sensor_121</th>\n",
              "      <th>sensor_122</th>\n",
              "      <th>sensor_123</th>\n",
              "      <th>sensor_124</th>\n",
              "      <th>sensor_125</th>\n",
              "      <th>sensor_126</th>\n",
              "      <th>sensor_127</th>\n",
              "      <th>action</th>\n",
              "      <th>reward</th>\n",
              "    </tr>\n",
              "  </thead>\n",
              "  <tbody>\n",
              "    <tr>\n",
              "      <th>0</th>\n",
              "      <td>2024-02-06 00:53:50.668844</td>\n",
              "      <td>NaN</td>\n",
              "      <td>-0.733090</td>\n",
              "      <td>-0.952240</td>\n",
              "      <td>-1.022493</td>\n",
              "      <td>-1.283032</td>\n",
              "      <td>0.450022</td>\n",
              "      <td>-0.284153</td>\n",
              "      <td>-0.911242</td>\n",
              "      <td>0.789324</td>\n",
              "      <td>...</td>\n",
              "      <td>1.287007</td>\n",
              "      <td>-0.979347</td>\n",
              "      <td>-1.007706</td>\n",
              "      <td>-0.778173</td>\n",
              "      <td>1.293042</td>\n",
              "      <td>-1.121060</td>\n",
              "      <td>0.745845</td>\n",
              "      <td>0.526928</td>\n",
              "      <td>6</td>\n",
              "      <td>-0.991363</td>\n",
              "    </tr>\n",
              "    <tr>\n",
              "      <th>1</th>\n",
              "      <td>2024-02-06 00:48:48.668504</td>\n",
              "      <td>7 the portion of the knife . **yc is defined b...</td>\n",
              "      <td>1.478311</td>\n",
              "      <td>-0.572608</td>\n",
              "      <td>0.995453</td>\n",
              "      <td>0.521949</td>\n",
              "      <td>-0.075699</td>\n",
              "      <td>1.381793</td>\n",
              "      <td>-0.511772</td>\n",
              "      <td>1.422475</td>\n",
              "      <td>...</td>\n",
              "      <td>-0.489740</td>\n",
              "      <td>0.409230</td>\n",
              "      <td>0.352797</td>\n",
              "      <td>1.500702</td>\n",
              "      <td>1.450614</td>\n",
              "      <td>1.414393</td>\n",
              "      <td>1.411396</td>\n",
              "      <td>-0.245006</td>\n",
              "      <td>6</td>\n",
              "      <td>-0.356302</td>\n",
              "    </tr>\n",
              "    <tr>\n",
              "      <th>2</th>\n",
              "      <td>2024-02-06 00:54:48.668907</td>\n",
              "      <td>2 . Plastic signs are economical . According t...</td>\n",
              "      <td>1.289525</td>\n",
              "      <td>-0.275127</td>\n",
              "      <td>-0.421727</td>\n",
              "      <td>-1.424338</td>\n",
              "      <td>-1.473373</td>\n",
              "      <td>1.157909</td>\n",
              "      <td>-0.217900</td>\n",
              "      <td>-0.820891</td>\n",
              "      <td>...</td>\n",
              "      <td>1.068416</td>\n",
              "      <td>1.485613</td>\n",
              "      <td>1.418063</td>\n",
              "      <td>1.284905</td>\n",
              "      <td>-1.401183</td>\n",
              "      <td>1.123872</td>\n",
              "      <td>-0.653912</td>\n",
              "      <td>-0.642793</td>\n",
              "      <td>6</td>\n",
              "      <td>0.974335</td>\n",
              "    </tr>\n",
              "  </tbody>\n",
              "</table>\n",
              "<p>3 rows × 132 columns</p>\n",
              "</div>\n",
              "    <div class=\"colab-df-buttons\">\n",
              "\n",
              "  <div class=\"colab-df-container\">\n",
              "    <button class=\"colab-df-convert\" onclick=\"convertToInteractive('df-909d6d52-bd30-469b-9f6e-267ac7e07bf2')\"\n",
              "            title=\"Convert this dataframe to an interactive table.\"\n",
              "            style=\"display:none;\">\n",
              "\n",
              "  <svg xmlns=\"http://www.w3.org/2000/svg\" height=\"24px\" viewBox=\"0 -960 960 960\">\n",
              "    <path d=\"M120-120v-720h720v720H120Zm60-500h600v-160H180v160Zm220 220h160v-160H400v160Zm0 220h160v-160H400v160ZM180-400h160v-160H180v160Zm440 0h160v-160H620v160ZM180-180h160v-160H180v160Zm440 0h160v-160H620v160Z\"/>\n",
              "  </svg>\n",
              "    </button>\n",
              "\n",
              "  <style>\n",
              "    .colab-df-container {\n",
              "      display:flex;\n",
              "      gap: 12px;\n",
              "    }\n",
              "\n",
              "    .colab-df-convert {\n",
              "      background-color: #E8F0FE;\n",
              "      border: none;\n",
              "      border-radius: 50%;\n",
              "      cursor: pointer;\n",
              "      display: none;\n",
              "      fill: #1967D2;\n",
              "      height: 32px;\n",
              "      padding: 0 0 0 0;\n",
              "      width: 32px;\n",
              "    }\n",
              "\n",
              "    .colab-df-convert:hover {\n",
              "      background-color: #E2EBFA;\n",
              "      box-shadow: 0px 1px 2px rgba(60, 64, 67, 0.3), 0px 1px 3px 1px rgba(60, 64, 67, 0.15);\n",
              "      fill: #174EA6;\n",
              "    }\n",
              "\n",
              "    .colab-df-buttons div {\n",
              "      margin-bottom: 4px;\n",
              "    }\n",
              "\n",
              "    [theme=dark] .colab-df-convert {\n",
              "      background-color: #3B4455;\n",
              "      fill: #D2E3FC;\n",
              "    }\n",
              "\n",
              "    [theme=dark] .colab-df-convert:hover {\n",
              "      background-color: #434B5C;\n",
              "      box-shadow: 0px 1px 3px 1px rgba(0, 0, 0, 0.15);\n",
              "      filter: drop-shadow(0px 1px 2px rgba(0, 0, 0, 0.3));\n",
              "      fill: #FFFFFF;\n",
              "    }\n",
              "  </style>\n",
              "\n",
              "    <script>\n",
              "      const buttonEl =\n",
              "        document.querySelector('#df-909d6d52-bd30-469b-9f6e-267ac7e07bf2 button.colab-df-convert');\n",
              "      buttonEl.style.display =\n",
              "        google.colab.kernel.accessAllowed ? 'block' : 'none';\n",
              "\n",
              "      async function convertToInteractive(key) {\n",
              "        const element = document.querySelector('#df-909d6d52-bd30-469b-9f6e-267ac7e07bf2');\n",
              "        const dataTable =\n",
              "          await google.colab.kernel.invokeFunction('convertToInteractive',\n",
              "                                                    [key], {});\n",
              "        if (!dataTable) return;\n",
              "\n",
              "        const docLinkHtml = 'Like what you see? Visit the ' +\n",
              "          '<a target=\"_blank\" href=https://colab.research.google.com/notebooks/data_table.ipynb>data table notebook</a>'\n",
              "          + ' to learn more about interactive tables.';\n",
              "        element.innerHTML = '';\n",
              "        dataTable['output_type'] = 'display_data';\n",
              "        await google.colab.output.renderOutput(dataTable, element);\n",
              "        const docLink = document.createElement('div');\n",
              "        docLink.innerHTML = docLinkHtml;\n",
              "        element.appendChild(docLink);\n",
              "      }\n",
              "    </script>\n",
              "  </div>\n",
              "\n",
              "\n",
              "<div id=\"df-48479b50-e181-457e-8d01-c9ae95c6ca11\">\n",
              "  <button class=\"colab-df-quickchart\" onclick=\"quickchart('df-48479b50-e181-457e-8d01-c9ae95c6ca11')\"\n",
              "            title=\"Suggest charts\"\n",
              "            style=\"display:none;\">\n",
              "\n",
              "<svg xmlns=\"http://www.w3.org/2000/svg\" height=\"24px\"viewBox=\"0 0 24 24\"\n",
              "     width=\"24px\">\n",
              "    <g>\n",
              "        <path d=\"M19 3H5c-1.1 0-2 .9-2 2v14c0 1.1.9 2 2 2h14c1.1 0 2-.9 2-2V5c0-1.1-.9-2-2-2zM9 17H7v-7h2v7zm4 0h-2V7h2v10zm4 0h-2v-4h2v4z\"/>\n",
              "    </g>\n",
              "</svg>\n",
              "  </button>\n",
              "\n",
              "<style>\n",
              "  .colab-df-quickchart {\n",
              "      --bg-color: #E8F0FE;\n",
              "      --fill-color: #1967D2;\n",
              "      --hover-bg-color: #E2EBFA;\n",
              "      --hover-fill-color: #174EA6;\n",
              "      --disabled-fill-color: #AAA;\n",
              "      --disabled-bg-color: #DDD;\n",
              "  }\n",
              "\n",
              "  [theme=dark] .colab-df-quickchart {\n",
              "      --bg-color: #3B4455;\n",
              "      --fill-color: #D2E3FC;\n",
              "      --hover-bg-color: #434B5C;\n",
              "      --hover-fill-color: #FFFFFF;\n",
              "      --disabled-bg-color: #3B4455;\n",
              "      --disabled-fill-color: #666;\n",
              "  }\n",
              "\n",
              "  .colab-df-quickchart {\n",
              "    background-color: var(--bg-color);\n",
              "    border: none;\n",
              "    border-radius: 50%;\n",
              "    cursor: pointer;\n",
              "    display: none;\n",
              "    fill: var(--fill-color);\n",
              "    height: 32px;\n",
              "    padding: 0;\n",
              "    width: 32px;\n",
              "  }\n",
              "\n",
              "  .colab-df-quickchart:hover {\n",
              "    background-color: var(--hover-bg-color);\n",
              "    box-shadow: 0 1px 2px rgba(60, 64, 67, 0.3), 0 1px 3px 1px rgba(60, 64, 67, 0.15);\n",
              "    fill: var(--button-hover-fill-color);\n",
              "  }\n",
              "\n",
              "  .colab-df-quickchart-complete:disabled,\n",
              "  .colab-df-quickchart-complete:disabled:hover {\n",
              "    background-color: var(--disabled-bg-color);\n",
              "    fill: var(--disabled-fill-color);\n",
              "    box-shadow: none;\n",
              "  }\n",
              "\n",
              "  .colab-df-spinner {\n",
              "    border: 2px solid var(--fill-color);\n",
              "    border-color: transparent;\n",
              "    border-bottom-color: var(--fill-color);\n",
              "    animation:\n",
              "      spin 1s steps(1) infinite;\n",
              "  }\n",
              "\n",
              "  @keyframes spin {\n",
              "    0% {\n",
              "      border-color: transparent;\n",
              "      border-bottom-color: var(--fill-color);\n",
              "      border-left-color: var(--fill-color);\n",
              "    }\n",
              "    20% {\n",
              "      border-color: transparent;\n",
              "      border-left-color: var(--fill-color);\n",
              "      border-top-color: var(--fill-color);\n",
              "    }\n",
              "    30% {\n",
              "      border-color: transparent;\n",
              "      border-left-color: var(--fill-color);\n",
              "      border-top-color: var(--fill-color);\n",
              "      border-right-color: var(--fill-color);\n",
              "    }\n",
              "    40% {\n",
              "      border-color: transparent;\n",
              "      border-right-color: var(--fill-color);\n",
              "      border-top-color: var(--fill-color);\n",
              "    }\n",
              "    60% {\n",
              "      border-color: transparent;\n",
              "      border-right-color: var(--fill-color);\n",
              "    }\n",
              "    80% {\n",
              "      border-color: transparent;\n",
              "      border-right-color: var(--fill-color);\n",
              "      border-bottom-color: var(--fill-color);\n",
              "    }\n",
              "    90% {\n",
              "      border-color: transparent;\n",
              "      border-bottom-color: var(--fill-color);\n",
              "    }\n",
              "  }\n",
              "</style>\n",
              "\n",
              "  <script>\n",
              "    async function quickchart(key) {\n",
              "      const quickchartButtonEl =\n",
              "        document.querySelector('#' + key + ' button');\n",
              "      quickchartButtonEl.disabled = true;  // To prevent multiple clicks.\n",
              "      quickchartButtonEl.classList.add('colab-df-spinner');\n",
              "      try {\n",
              "        const charts = await google.colab.kernel.invokeFunction(\n",
              "            'suggestCharts', [key], {});\n",
              "      } catch (error) {\n",
              "        console.error('Error during call to suggestCharts:', error);\n",
              "      }\n",
              "      quickchartButtonEl.classList.remove('colab-df-spinner');\n",
              "      quickchartButtonEl.classList.add('colab-df-quickchart-complete');\n",
              "    }\n",
              "    (() => {\n",
              "      let quickchartButtonEl =\n",
              "        document.querySelector('#df-48479b50-e181-457e-8d01-c9ae95c6ca11 button');\n",
              "      quickchartButtonEl.style.display =\n",
              "        google.colab.kernel.accessAllowed ? 'block' : 'none';\n",
              "    })();\n",
              "  </script>\n",
              "</div>\n",
              "\n",
              "    </div>\n",
              "  </div>\n"
            ]
          },
          "metadata": {},
          "execution_count": 19
        }
      ]
    },
    {
      "cell_type": "code",
      "source": [],
      "metadata": {
        "id": "mJhfZEq74gz_"
      },
      "id": "mJhfZEq74gz_",
      "execution_count": null,
      "outputs": []
    }
  ],
  "metadata": {
    "colab": {
      "provenance": []
    },
    "language_info": {
      "name": "python"
    },
    "kernelspec": {
      "name": "python3",
      "display_name": "Python 3"
    }
  },
  "nbformat": 4,
  "nbformat_minor": 5
}